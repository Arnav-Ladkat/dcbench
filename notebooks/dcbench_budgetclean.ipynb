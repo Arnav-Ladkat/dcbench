{
 "cells": [
  {
   "cell_type": "markdown",
   "id": "868dae82",
   "metadata": {},
   "source": [
    "![alt text](https://datacentricai.cc/images/logos/budgetclean_hu47fef794183e03643658b6e09800de8e_91147_250x250_fit_box_2.png \"Budget Clean Logo\")\n",
    "\n",
    "# DCbench: Budget Clean Task Demo\n",
    "\n",
    "This is a simple demo to showcase the interface of the `budgetclean` task. You can read more about the task in our [documentation](https://dcbench.readthedocs.io/en/latest/tasks.html#minimal-feature-cleaning) and on our [website](https://www.datacentricai.cc/benchmark/tasks/budgetclean/)."
   ]
  },
  {
   "cell_type": "markdown",
   "id": "a7e11a20",
   "metadata": {},
   "source": [
    "We can start off by importing `dcbench` and listing the available tasks."
   ]
  },
  {
   "cell_type": "code",
   "execution_count": 1,
   "id": "4e6403c5",
   "metadata": {},
   "outputs": [
    {
     "data": {
      "text/plain": [
       "[Task(task_id=\"minidata\", name=\"Minimal Data Selection\"),\n",
       " Task(task_id=\"slice_discovery\", name=\"Slice Discovery\"),\n",
       " Task(task_id=\"budgetclean\", name=\"Minimal Feature Cleaning\")]"
      ]
     },
     "execution_count": 1,
     "metadata": {},
     "output_type": "execute_result"
    }
   ],
   "source": [
    "import dcbench\n",
    "dcbench.tasks"
   ]
  },
  {
   "cell_type": "markdown",
   "id": "23fd8064",
   "metadata": {},
   "source": [
    "## Exploring problems\n",
    "\n",
    "Here we want to focus on the budget clean task. We can list its problems as such:"
   ]
  },
  {
   "cell_type": "code",
   "execution_count": 2,
   "id": "7eefdb1f",
   "metadata": {
    "scrolled": false
   },
   "outputs": [
    {
     "data": {
      "text/html": [
       "<div>\n",
       "<style scoped>\n",
       "    .dataframe tbody tr th:only-of-type {\n",
       "        vertical-align: middle;\n",
       "    }\n",
       "\n",
       "    .dataframe tbody tr th {\n",
       "        vertical-align: top;\n",
       "    }\n",
       "\n",
       "    .dataframe thead th {\n",
       "        text-align: right;\n",
       "    }\n",
       "</style>\n",
       "<table border=\"1\" class=\"dataframe\">\n",
       "  <thead>\n",
       "    <tr style=\"text-align: right;\">\n",
       "      <th></th>\n",
       "      <th>id</th>\n",
       "      <th>budget</th>\n",
       "      <th>dataset</th>\n",
       "      <th>mode</th>\n",
       "      <th>model</th>\n",
       "    </tr>\n",
       "  </thead>\n",
       "  <tbody>\n",
       "    <tr>\n",
       "      <th>0</th>\n",
       "      <td>p001</td>\n",
       "      <td>0.1</td>\n",
       "      <td>Supreme</td>\n",
       "      <td>MAR</td>\n",
       "      <td>logreg</td>\n",
       "    </tr>\n",
       "    <tr>\n",
       "      <th>1</th>\n",
       "      <td>p002</td>\n",
       "      <td>0.1</td>\n",
       "      <td>Supreme</td>\n",
       "      <td>MAR</td>\n",
       "      <td>randomf</td>\n",
       "    </tr>\n",
       "    <tr>\n",
       "      <th>2</th>\n",
       "      <td>p003</td>\n",
       "      <td>0.2</td>\n",
       "      <td>Supreme</td>\n",
       "      <td>MAR</td>\n",
       "      <td>logreg</td>\n",
       "    </tr>\n",
       "    <tr>\n",
       "      <th>3</th>\n",
       "      <td>p004</td>\n",
       "      <td>0.2</td>\n",
       "      <td>Supreme</td>\n",
       "      <td>MAR</td>\n",
       "      <td>randomf</td>\n",
       "    </tr>\n",
       "    <tr>\n",
       "      <th>4</th>\n",
       "      <td>p005</td>\n",
       "      <td>0.3</td>\n",
       "      <td>Supreme</td>\n",
       "      <td>MAR</td>\n",
       "      <td>logreg</td>\n",
       "    </tr>\n",
       "    <tr>\n",
       "      <th>...</th>\n",
       "      <td>...</td>\n",
       "      <td>...</td>\n",
       "      <td>...</td>\n",
       "      <td>...</td>\n",
       "      <td>...</td>\n",
       "    </tr>\n",
       "    <tr>\n",
       "      <th>139</th>\n",
       "      <td>p140</td>\n",
       "      <td>0.7</td>\n",
       "      <td>Sick</td>\n",
       "      <td>MCAR</td>\n",
       "      <td>randomf</td>\n",
       "    </tr>\n",
       "    <tr>\n",
       "      <th>140</th>\n",
       "      <td>p141</td>\n",
       "      <td>0.8</td>\n",
       "      <td>Sick</td>\n",
       "      <td>MCAR</td>\n",
       "      <td>logreg</td>\n",
       "    </tr>\n",
       "    <tr>\n",
       "      <th>141</th>\n",
       "      <td>p142</td>\n",
       "      <td>0.8</td>\n",
       "      <td>Sick</td>\n",
       "      <td>MCAR</td>\n",
       "      <td>randomf</td>\n",
       "    </tr>\n",
       "    <tr>\n",
       "      <th>142</th>\n",
       "      <td>p143</td>\n",
       "      <td>0.9</td>\n",
       "      <td>Sick</td>\n",
       "      <td>MCAR</td>\n",
       "      <td>logreg</td>\n",
       "    </tr>\n",
       "    <tr>\n",
       "      <th>143</th>\n",
       "      <td>p144</td>\n",
       "      <td>0.9</td>\n",
       "      <td>Sick</td>\n",
       "      <td>MCAR</td>\n",
       "      <td>randomf</td>\n",
       "    </tr>\n",
       "  </tbody>\n",
       "</table>\n",
       "<p>144 rows × 5 columns</p>\n",
       "</div>"
      ],
      "text/plain": [
       "       id  budget  dataset  mode    model\n",
       "0    p001     0.1  Supreme   MAR   logreg\n",
       "1    p002     0.1  Supreme   MAR  randomf\n",
       "2    p003     0.2  Supreme   MAR   logreg\n",
       "3    p004     0.2  Supreme   MAR  randomf\n",
       "4    p005     0.3  Supreme   MAR   logreg\n",
       "..    ...     ...      ...   ...      ...\n",
       "139  p140     0.7     Sick  MCAR  randomf\n",
       "140  p141     0.8     Sick  MCAR   logreg\n",
       "141  p142     0.8     Sick  MCAR  randomf\n",
       "142  p143     0.9     Sick  MCAR   logreg\n",
       "143  p144     0.9     Sick  MCAR  randomf\n",
       "\n",
       "[144 rows x 5 columns]"
      ]
     },
     "execution_count": 2,
     "metadata": {},
     "output_type": "execute_result"
    }
   ],
   "source": [
    "dcbench.budgetclean.problems_df"
   ]
  },
  {
   "cell_type": "markdown",
   "id": "42c31e5c",
   "metadata": {},
   "source": [
    "## Solving a specific problem\n",
    "\n",
    "We can load a specific problem instance."
   ]
  },
  {
   "cell_type": "code",
   "execution_count": 3,
   "id": "02c030ba",
   "metadata": {},
   "outputs": [],
   "source": [
    "problem = dcbench.budgetclean.problems[\"p001\"]"
   ]
  },
  {
   "cell_type": "code",
   "execution_count": 4,
   "id": "6b4b0d27",
   "metadata": {},
   "outputs": [
    {
     "data": {
      "text/plain": [
       "BudgetcleanProblem(artifacts={'X_test': 'CSVArtifact', 'X_train_clean': 'CSVArtifact', 'X_train_dirty': 'CSVArtifact', 'X_val': 'CSVArtifact', 'y_test': 'CSVArtifact', 'y_train': 'CSVArtifact', 'y_val': 'CSVArtifact'}, attributes={'budget': 0.1, 'dataset': 'Supreme', 'mode': 'MAR', 'model': 'logreg'})"
      ]
     },
     "execution_count": 4,
     "metadata": {},
     "output_type": "execute_result"
    }
   ],
   "source": [
    "problem"
   ]
  },
  {
   "cell_type": "markdown",
   "id": "95cf6701",
   "metadata": {},
   "source": [
    "We can view the problems artifacts:"
   ]
  },
  {
   "cell_type": "code",
   "execution_count": 5,
   "id": "c91862c6",
   "metadata": {},
   "outputs": [
    {
     "data": {
      "text/plain": [
       "{'X_test': <dcbench.common.artifact.CSVArtifact at 0x7fce593ef040>,\n",
       " 'X_train_clean': <dcbench.common.artifact.CSVArtifact at 0x7fce593ef0d0>,\n",
       " 'X_train_dirty': <dcbench.common.artifact.CSVArtifact at 0x7fce593ef130>,\n",
       " 'X_val': <dcbench.common.artifact.CSVArtifact at 0x7fce593ef190>,\n",
       " 'y_test': <dcbench.common.artifact.CSVArtifact at 0x7fce593ef1f0>,\n",
       " 'y_train': <dcbench.common.artifact.CSVArtifact at 0x7fce593ef250>,\n",
       " 'y_val': <dcbench.common.artifact.CSVArtifact at 0x7fce593ef2b0>}"
      ]
     },
     "execution_count": 5,
     "metadata": {},
     "output_type": "execute_result"
    }
   ],
   "source": [
    "problem.artifacts"
   ]
  },
  {
   "cell_type": "markdown",
   "id": "89937471",
   "metadata": {},
   "source": [
    "Each one of these artifacts is a Pandas data frame. We can view the dirty dataset:"
   ]
  },
  {
   "cell_type": "code",
   "execution_count": 19,
   "id": "4adc4723",
   "metadata": {},
   "outputs": [
    {
     "data": {
      "text/html": [
       "<div>\n",
       "<style scoped>\n",
       "    .dataframe tbody tr th:only-of-type {\n",
       "        vertical-align: middle;\n",
       "    }\n",
       "\n",
       "    .dataframe tbody tr th {\n",
       "        vertical-align: top;\n",
       "    }\n",
       "\n",
       "    .dataframe thead th {\n",
       "        text-align: right;\n",
       "    }\n",
       "</style>\n",
       "<table border=\"1\" class=\"dataframe\">\n",
       "  <thead>\n",
       "    <tr style=\"text-align: right;\">\n",
       "      <th></th>\n",
       "      <th>Actions_taken</th>\n",
       "      <th>Liberal</th>\n",
       "      <th>Unconstitutional</th>\n",
       "      <th>Precedent_alteration</th>\n",
       "      <th>Unanimous</th>\n",
       "      <th>Year_of_decision</th>\n",
       "      <th>Lower_court_disagreement</th>\n",
       "    </tr>\n",
       "  </thead>\n",
       "  <tbody>\n",
       "    <tr>\n",
       "      <th>0</th>\n",
       "      <td>0.0</td>\n",
       "      <td>1</td>\n",
       "      <td>0</td>\n",
       "      <td>0</td>\n",
       "      <td>0</td>\n",
       "      <td>[1954.0, 1962.25, 1962.4072121195304, 1963.475...</td>\n",
       "      <td>1</td>\n",
       "    </tr>\n",
       "    <tr>\n",
       "      <th>1</th>\n",
       "      <td>0.0</td>\n",
       "      <td>0</td>\n",
       "      <td>0</td>\n",
       "      <td>0</td>\n",
       "      <td>0</td>\n",
       "      <td>[1954.0, 1962.25, 1971.6767049324608, 1971.721...</td>\n",
       "      <td>1</td>\n",
       "    </tr>\n",
       "    <tr>\n",
       "      <th>2</th>\n",
       "      <td>0.0</td>\n",
       "      <td>1</td>\n",
       "      <td>0</td>\n",
       "      <td>0</td>\n",
       "      <td>0</td>\n",
       "      <td>[1954.0, 1962.25, 1963.0, 1966.1617719203623, ...</td>\n",
       "      <td>0</td>\n",
       "    </tr>\n",
       "    <tr>\n",
       "      <th>3</th>\n",
       "      <td>[0.0, 0.0, 0.0, 0.0187197814661998, 0.04430760...</td>\n",
       "      <td>0</td>\n",
       "      <td>0</td>\n",
       "      <td>0</td>\n",
       "      <td>0</td>\n",
       "      <td>[1939.322496258552, 1954.0, 1962.25, 1971.5049...</td>\n",
       "      <td>0</td>\n",
       "    </tr>\n",
       "    <tr>\n",
       "      <th>4</th>\n",
       "      <td>[-0.6981749431710182, -0.0655237018394052, 0.0...</td>\n",
       "      <td>1</td>\n",
       "      <td>0</td>\n",
       "      <td>0</td>\n",
       "      <td>0</td>\n",
       "      <td>[1954.0, 1962.1926216054344, 1962.25, 1963.0, ...</td>\n",
       "      <td>1</td>\n",
       "    </tr>\n",
       "    <tr>\n",
       "      <th>...</th>\n",
       "      <td>...</td>\n",
       "      <td>...</td>\n",
       "      <td>...</td>\n",
       "      <td>...</td>\n",
       "      <td>...</td>\n",
       "      <td>...</td>\n",
       "      <td>...</td>\n",
       "    </tr>\n",
       "    <tr>\n",
       "      <th>1152</th>\n",
       "      <td>[-0.6605904813643341, 0.0, 0.0, 0.0, 0.0443076...</td>\n",
       "      <td>0</td>\n",
       "      <td>0</td>\n",
       "      <td>0</td>\n",
       "      <td>0</td>\n",
       "      <td>[1954.0, 1962.25, 1971.5049446892967, 1971.721...</td>\n",
       "      <td>0</td>\n",
       "    </tr>\n",
       "    <tr>\n",
       "      <th>1153</th>\n",
       "      <td>0.0</td>\n",
       "      <td>1</td>\n",
       "      <td>1</td>\n",
       "      <td>0</td>\n",
       "      <td>1</td>\n",
       "      <td>[1954.0, 1962.25, 1965.2, 1966.0, 1966.5458098...</td>\n",
       "      <td>1</td>\n",
       "    </tr>\n",
       "    <tr>\n",
       "      <th>1154</th>\n",
       "      <td>[0.0, 0.0, 0.0, 0.0, 0.0352086211112239, 0.042...</td>\n",
       "      <td>1</td>\n",
       "      <td>1</td>\n",
       "      <td>0</td>\n",
       "      <td>0</td>\n",
       "      <td>[1954.0, 1962.25, 1967.672281746032, 1971.7213...</td>\n",
       "      <td>0</td>\n",
       "    </tr>\n",
       "    <tr>\n",
       "      <th>1155</th>\n",
       "      <td>[-0.2772271554636868, 0.0, 0.0, 0.0, 0.0443076...</td>\n",
       "      <td>0</td>\n",
       "      <td>0</td>\n",
       "      <td>0</td>\n",
       "      <td>0</td>\n",
       "      <td>[1954.0, 1956.1598235607023, 1962.25, 1971.504...</td>\n",
       "      <td>0</td>\n",
       "    </tr>\n",
       "    <tr>\n",
       "      <th>1156</th>\n",
       "      <td>0.0</td>\n",
       "      <td>1</td>\n",
       "      <td>0</td>\n",
       "      <td>0</td>\n",
       "      <td>1</td>\n",
       "      <td>[1954.0, 1959.7710295751065, 1962.25, 1967.0, ...</td>\n",
       "      <td>0</td>\n",
       "    </tr>\n",
       "  </tbody>\n",
       "</table>\n",
       "<p>1157 rows × 7 columns</p>\n",
       "</div>"
      ],
      "text/plain": [
       "                                          Actions_taken  Liberal  Unconstitutional  Precedent_alteration  Unanimous                                   Year_of_decision  Lower_court_disagreement\n",
       "0                                                   0.0        1                 0                     0          0  [1954.0, 1962.25, 1962.4072121195304, 1963.475...                         1\n",
       "1                                                   0.0        0                 0                     0          0  [1954.0, 1962.25, 1971.6767049324608, 1971.721...                         1\n",
       "2                                                   0.0        1                 0                     0          0  [1954.0, 1962.25, 1963.0, 1966.1617719203623, ...                         0\n",
       "3     [0.0, 0.0, 0.0, 0.0187197814661998, 0.04430760...        0                 0                     0          0  [1939.322496258552, 1954.0, 1962.25, 1971.5049...                         0\n",
       "4     [-0.6981749431710182, -0.0655237018394052, 0.0...        1                 0                     0          0  [1954.0, 1962.1926216054344, 1962.25, 1963.0, ...                         1\n",
       "...                                                 ...      ...               ...                   ...        ...                                                ...                       ...\n",
       "1152  [-0.6605904813643341, 0.0, 0.0, 0.0, 0.0443076...        0                 0                     0          0  [1954.0, 1962.25, 1971.5049446892967, 1971.721...                         0\n",
       "1153                                                0.0        1                 1                     0          1  [1954.0, 1962.25, 1965.2, 1966.0, 1966.5458098...                         1\n",
       "1154  [0.0, 0.0, 0.0, 0.0, 0.0352086211112239, 0.042...        1                 1                     0          0  [1954.0, 1962.25, 1967.672281746032, 1971.7213...                         0\n",
       "1155  [-0.2772271554636868, 0.0, 0.0, 0.0, 0.0443076...        0                 0                     0          0  [1954.0, 1956.1598235607023, 1962.25, 1971.504...                         0\n",
       "1156                                                0.0        1                 0                     0          1  [1954.0, 1959.7710295751065, 1962.25, 1967.0, ...                         0\n",
       "\n",
       "[1157 rows x 7 columns]"
      ]
     },
     "execution_count": 19,
     "metadata": {},
     "output_type": "execute_result"
    }
   ],
   "source": [
    "problem[\"X_train_dirty\"]"
   ]
  },
  {
   "cell_type": "markdown",
   "id": "c73d4601",
   "metadata": {},
   "source": [
    "Solving this problem requires us to select a subset of dirty data that should be cleaned. To construct a solution, we need to produce a boolean list (or single-column data frame) that is of the same size as `X_train_dirty`. For each row in the solution artifact `True` means that the corresponding row in `X_train_dirty` should be cleaned, and `False` means that the row will be left dirty. The proportion of selected rows  must be less than or equal to the `budget` attribute of the problem. For problem `p001` the budget is `0.1`."
   ]
  },
  {
   "cell_type": "markdown",
   "id": "46a596df",
   "metadata": {},
   "source": [
    "We can select the first `50` rows and produce a solution."
   ]
  },
  {
   "cell_type": "code",
   "execution_count": 7,
   "id": "0cd68bca",
   "metadata": {},
   "outputs": [],
   "source": [
    "idx_selected = [i < 50 for i in range(len(problem[\"X_train_dirty\"]))]"
   ]
  },
  {
   "cell_type": "markdown",
   "id": "141a3bdd",
   "metadata": {},
   "source": [
    "Then, we can produce a solution:"
   ]
  },
  {
   "cell_type": "code",
   "execution_count": 8,
   "id": "e356d77d",
   "metadata": {},
   "outputs": [
    {
     "name": "stderr",
     "output_type": "stream",
     "text": [
      "/home/bojan/projects/phd/dcbench/code/dcbench/dcbench/tasks/budgetclean/problem.py:106: UserWarning: The number of selected data examples is below the allowed budget. (expected: 115, found: 50)\n",
      "  warnings.warn(\n"
     ]
    }
   ],
   "source": [
    "solution = problem.solve(idx_selected=idx_selected)"
   ]
  },
  {
   "cell_type": "markdown",
   "id": "93d14e75",
   "metadata": {},
   "source": [
    "The `solve` method performs some rudimentary checks to see if our solution is valid. We got a warning that our number of selected rows was below the budget. Since no exception was raised, we still got a valid solution.\n",
    "\n",
    "Now we can evaluate it:"
   ]
  },
  {
   "cell_type": "code",
   "execution_count": 18,
   "id": "20fef6c2",
   "metadata": {},
   "outputs": [
    {
     "data": {
      "text/plain": [
       "acc_val_gapclosed     0.236842\n",
       "acc_test_gapclosed    0.316667\n",
       "problem_id                p001\n",
       "budget                     0.1\n",
       "dataset                Supreme\n",
       "mode                       MAR\n",
       "model                   logreg\n",
       "Name: 580d43f17adb4e5682f2e376b0554580, dtype: object"
      ]
     },
     "execution_count": 18,
     "metadata": {},
     "output_type": "execute_result"
    }
   ],
   "source": [
    "problem.evaluate(solution)"
   ]
  },
  {
   "cell_type": "markdown",
   "id": "93cee334",
   "metadata": {},
   "source": [
    "The result contains many attributes, which are inherited from the problem itself. The most interesting ones are the actual validation and test scores: `acc_val_gapclosed` and `acc_test_gapclosed`. They represent the percentage of the accuracy gap between fully dirty and fully clean data that was closed by our cleaning procedure.\n",
    "\n",
    "Formally, the accuracy gap is defined as:\n",
    "$$\n",
    "\\mathrm{acc\\_gap} = \\frac{\\mathrm{acc\\_clean} - \\mathrm{acc\\_budgetcleaned}}{\\mathrm{acc\\_clean} - \\mathrm{acc\\_dirty}}\n",
    "$$"
   ]
  },
  {
   "cell_type": "markdown",
   "id": "d0bc6117",
   "metadata": {},
   "source": [
    "## Using baseline methods\n",
    "\n",
    "We aim to provide some baseline methods for all our tasks. They can be listed as such:"
   ]
  },
  {
   "cell_type": "code",
   "execution_count": 20,
   "id": "5e0cb151",
   "metadata": {},
   "outputs": [
    {
     "data": {
      "text/html": [
       "<div>\n",
       "<style scoped>\n",
       "    .dataframe tbody tr th:only-of-type {\n",
       "        vertical-align: middle;\n",
       "    }\n",
       "\n",
       "    .dataframe tbody tr th {\n",
       "        vertical-align: top;\n",
       "    }\n",
       "\n",
       "    .dataframe thead th {\n",
       "        text-align: right;\n",
       "    }\n",
       "</style>\n",
       "<table border=\"1\" class=\"dataframe\">\n",
       "  <thead>\n",
       "    <tr style=\"text-align: right;\">\n",
       "      <th></th>\n",
       "      <th>summary</th>\n",
       "    </tr>\n",
       "  </thead>\n",
       "  <tbody>\n",
       "    <tr>\n",
       "      <th>random_clean</th>\n",
       "      <td>Always selects a random subset of the data to ...</td>\n",
       "    </tr>\n",
       "    <tr>\n",
       "      <th>cp_clean</th>\n",
       "      <td>Perform the selection using the CPClean algori...</td>\n",
       "    </tr>\n",
       "  </tbody>\n",
       "</table>\n",
       "</div>"
      ],
      "text/plain": [
       "                                                        summary\n",
       "random_clean  Always selects a random subset of the data to ...\n",
       "cp_clean      Perform the selection using the CPClean algori..."
      ]
     },
     "execution_count": 20,
     "metadata": {},
     "output_type": "execute_result"
    }
   ],
   "source": [
    "dcbench.budgetclean.baselines"
   ]
  },
  {
   "cell_type": "markdown",
   "id": "9699aa30",
   "metadata": {},
   "source": [
    "We can simply call the baseline method by passing a problem instance to it and it will return a solution instance:"
   ]
  },
  {
   "cell_type": "code",
   "execution_count": 21,
   "id": "369b9a3f",
   "metadata": {},
   "outputs": [
    {
     "data": {
      "text/plain": [
       "acc_val_gapclosed     0.473684\n",
       "acc_test_gapclosed    0.566667\n",
       "problem_id                p001\n",
       "budget                     0.1\n",
       "dataset                Supreme\n",
       "mode                       MAR\n",
       "model                   logreg\n",
       "Name: e31c80dbbb244a059e32e0d84b35ad2c, dtype: object"
      ]
     },
     "execution_count": 21,
     "metadata": {},
     "output_type": "execute_result"
    }
   ],
   "source": [
    "baseline = dcbench.budgetclean.baselines.random_clean\n",
    "solution = baseline(problem)\n",
    "problem.evaluate(solution)"
   ]
  },
  {
   "cell_type": "markdown",
   "id": "7d51b8bb",
   "metadata": {},
   "source": [
    "## Solving and evaluating a batch of problems\n",
    "\n",
    "We usually want to solve a series of problems in the benchmark. We can use the baseline to solve all of them. We can focus primarily on the `Supreme` dataset, `MAR` mode of data missingness, and `logreg` model (i.e. logistic regression)."
   ]
  },
  {
   "cell_type": "code",
   "execution_count": 26,
   "id": "04b774af",
   "metadata": {},
   "outputs": [],
   "source": [
    "results = []\n",
    "for problem_id, problem in dcbench.budgetclean.problems.items():\n",
    "    if problem.attributes[\"dataset\"] == \"Supreme\" and \\\n",
    "        problem.attributes[\"mode\"] == \"MAR\" and \\\n",
    "        problem.attributes[\"model\"] == \"logreg\":\n",
    "        \n",
    "        solution = baseline(problem)\n",
    "        results.append(problem.evaluate(solution))"
   ]
  },
  {
   "cell_type": "markdown",
   "id": "1c99444a",
   "metadata": {},
   "source": [
    "Now we can concatenate results into a single data frame:"
   ]
  },
  {
   "cell_type": "code",
   "execution_count": 36,
   "id": "4837e812",
   "metadata": {},
   "outputs": [
    {
     "data": {
      "text/html": [
       "<div>\n",
       "<style scoped>\n",
       "    .dataframe tbody tr th:only-of-type {\n",
       "        vertical-align: middle;\n",
       "    }\n",
       "\n",
       "    .dataframe tbody tr th {\n",
       "        vertical-align: top;\n",
       "    }\n",
       "\n",
       "    .dataframe thead th {\n",
       "        text-align: right;\n",
       "    }\n",
       "</style>\n",
       "<table border=\"1\" class=\"dataframe\">\n",
       "  <thead>\n",
       "    <tr style=\"text-align: right;\">\n",
       "      <th></th>\n",
       "      <th>acc_val_gapclosed</th>\n",
       "      <th>acc_test_gapclosed</th>\n",
       "      <th>problem_id</th>\n",
       "      <th>budget</th>\n",
       "      <th>dataset</th>\n",
       "      <th>mode</th>\n",
       "      <th>model</th>\n",
       "    </tr>\n",
       "  </thead>\n",
       "  <tbody>\n",
       "    <tr>\n",
       "      <th>089eac16adbc43b2980abffacb6bbe11</th>\n",
       "      <td>0.473684</td>\n",
       "      <td>0.566667</td>\n",
       "      <td>p001</td>\n",
       "      <td>0.1</td>\n",
       "      <td>Supreme</td>\n",
       "      <td>MAR</td>\n",
       "      <td>logreg</td>\n",
       "    </tr>\n",
       "    <tr>\n",
       "      <th>b3c6ae3e376142a7b7f18c78c38b633f</th>\n",
       "      <td>0.671053</td>\n",
       "      <td>0.85</td>\n",
       "      <td>p003</td>\n",
       "      <td>0.2</td>\n",
       "      <td>Supreme</td>\n",
       "      <td>MAR</td>\n",
       "      <td>logreg</td>\n",
       "    </tr>\n",
       "    <tr>\n",
       "      <th>2d7efca544e14a68971db5f9712b6fec</th>\n",
       "      <td>0.671053</td>\n",
       "      <td>0.833333</td>\n",
       "      <td>p005</td>\n",
       "      <td>0.3</td>\n",
       "      <td>Supreme</td>\n",
       "      <td>MAR</td>\n",
       "      <td>logreg</td>\n",
       "    </tr>\n",
       "    <tr>\n",
       "      <th>10be0e2f72384c56bfc8b3af298eef74</th>\n",
       "      <td>0.717105</td>\n",
       "      <td>0.85</td>\n",
       "      <td>p007</td>\n",
       "      <td>0.4</td>\n",
       "      <td>Supreme</td>\n",
       "      <td>MAR</td>\n",
       "      <td>logreg</td>\n",
       "    </tr>\n",
       "    <tr>\n",
       "      <th>9393130313384851b7f1a1e0395aafc3</th>\n",
       "      <td>0.677632</td>\n",
       "      <td>0.766667</td>\n",
       "      <td>p009</td>\n",
       "      <td>0.5</td>\n",
       "      <td>Supreme</td>\n",
       "      <td>MAR</td>\n",
       "      <td>logreg</td>\n",
       "    </tr>\n",
       "    <tr>\n",
       "      <th>98b64d6d8abd434e9d990eb6fec5e296</th>\n",
       "      <td>0.789474</td>\n",
       "      <td>0.833333</td>\n",
       "      <td>p011</td>\n",
       "      <td>0.6</td>\n",
       "      <td>Supreme</td>\n",
       "      <td>MAR</td>\n",
       "      <td>logreg</td>\n",
       "    </tr>\n",
       "    <tr>\n",
       "      <th>2a66f6ac049a4593b226b17a5e1d38d7</th>\n",
       "      <td>0.848684</td>\n",
       "      <td>0.85</td>\n",
       "      <td>p013</td>\n",
       "      <td>0.7</td>\n",
       "      <td>Supreme</td>\n",
       "      <td>MAR</td>\n",
       "      <td>logreg</td>\n",
       "    </tr>\n",
       "    <tr>\n",
       "      <th>771c05585c944d8f91b916b07f8beeb0</th>\n",
       "      <td>0.894737</td>\n",
       "      <td>0.933333</td>\n",
       "      <td>p015</td>\n",
       "      <td>0.8</td>\n",
       "      <td>Supreme</td>\n",
       "      <td>MAR</td>\n",
       "      <td>logreg</td>\n",
       "    </tr>\n",
       "    <tr>\n",
       "      <th>a9024f29de2240d9aafe22ba49f92ab8</th>\n",
       "      <td>0.894737</td>\n",
       "      <td>0.933333</td>\n",
       "      <td>p017</td>\n",
       "      <td>0.9</td>\n",
       "      <td>Supreme</td>\n",
       "      <td>MAR</td>\n",
       "      <td>logreg</td>\n",
       "    </tr>\n",
       "  </tbody>\n",
       "</table>\n",
       "</div>"
      ],
      "text/plain": [
       "                                 acc_val_gapclosed acc_test_gapclosed problem_id budget  dataset mode   model\n",
       "089eac16adbc43b2980abffacb6bbe11          0.473684           0.566667       p001    0.1  Supreme  MAR  logreg\n",
       "b3c6ae3e376142a7b7f18c78c38b633f          0.671053               0.85       p003    0.2  Supreme  MAR  logreg\n",
       "2d7efca544e14a68971db5f9712b6fec          0.671053           0.833333       p005    0.3  Supreme  MAR  logreg\n",
       "10be0e2f72384c56bfc8b3af298eef74          0.717105               0.85       p007    0.4  Supreme  MAR  logreg\n",
       "9393130313384851b7f1a1e0395aafc3          0.677632           0.766667       p009    0.5  Supreme  MAR  logreg\n",
       "98b64d6d8abd434e9d990eb6fec5e296          0.789474           0.833333       p011    0.6  Supreme  MAR  logreg\n",
       "2a66f6ac049a4593b226b17a5e1d38d7          0.848684               0.85       p013    0.7  Supreme  MAR  logreg\n",
       "771c05585c944d8f91b916b07f8beeb0          0.894737           0.933333       p015    0.8  Supreme  MAR  logreg\n",
       "a9024f29de2240d9aafe22ba49f92ab8          0.894737           0.933333       p017    0.9  Supreme  MAR  logreg"
      ]
     },
     "execution_count": 36,
     "metadata": {},
     "output_type": "execute_result"
    }
   ],
   "source": [
    "import pandas as pd\n",
    "\n",
    "result = pd.concat(results, axis=1).T\n",
    "result"
   ]
  },
  {
   "cell_type": "markdown",
   "id": "72ab8432",
   "metadata": {},
   "source": [
    "We can also easily plot the results like this. For example, we can plot the gap closed as a function of the budget:"
   ]
  },
  {
   "cell_type": "code",
   "execution_count": 37,
   "id": "ce174b6b",
   "metadata": {},
   "outputs": [
    {
     "data": {
      "image/png": "[encoded data removed]",
      "text/plain": [
       "<Figure size 432x288 with 1 Axes>"
      ]
     },
     "metadata": {
      "needs_background": "light"
     },
     "output_type": "display_data"
    }
   ],
   "source": [
    "_ = result.plot(x=\"budget\", y=[\"acc_test_gapclosed\", \"acc_val_gapclosed\"])"
   ]
  }
 ],
 "metadata": {
  "kernelspec": {
   "display_name": "Python 3 (ipykernel)",
   "language": "python",
   "name": "python3"
  },
  "language_info": {
   "codemirror_mode": {
    "name": "ipython",
    "version": 3
   },
   "file_extension": ".py",
   "mimetype": "text/x-python",
   "name": "python",
   "nbconvert_exporter": "python",
   "pygments_lexer": "ipython3",
   "version": "3.8.10"
  }
 },
 "nbformat": 4,
 "nbformat_minor": 5
}
