{
 "cells": [
  {
   "cell_type": "code",
   "execution_count": 1,
   "metadata": {},
   "outputs": [],
   "source": [
    "%load_ext autoreload\n",
    "%autoreload 2"
   ]
  },
  {
   "cell_type": "markdown",
   "metadata": {},
   "source": [
    "![alt text](https://datacentricai.cc/images/logos/slicediscovery_hu6687ef99f16931b2f0d65c72bfc1ddad_90737_250x250_fit_box_2.png \"Slice Discovery Logo\")\n",
    "\n",
    "# `dcbench`: Slice Discovery Demo\n",
    "\n",
    "This notebook showcases the interface for Slice Discovery in `dcbench`. You can read more about the task in our [documentation](https://dcbench.readthedocs.io/en/latest/tasks.html#slice-discovery) and on our [website](https://www.datacentricai.cc/benchmark/)."
   ]
  },
  {
   "cell_type": "markdown",
   "metadata": {},
   "source": [
    "Let's start off by importing `dcbench` and listing the supported tasks."
   ]
  },
  {
   "cell_type": "code",
   "execution_count": 14,
   "metadata": {},
   "outputs": [
    {
     "data": {
      "text/html": [
       "<div>\n",
       "<style scoped>\n",
       "    .dataframe tbody tr th:only-of-type {\n",
       "        vertical-align: middle;\n",
       "    }\n",
       "\n",
       "    .dataframe tbody tr th {\n",
       "        vertical-align: top;\n",
       "    }\n",
       "\n",
       "    .dataframe thead th {\n",
       "        text-align: right;\n",
       "    }\n",
       "</style>\n",
       "<table border=\"1\" class=\"dataframe\">\n",
       "  <thead>\n",
       "    <tr style=\"text-align: right;\">\n",
       "      <th></th>\n",
       "      <th>name</th>\n",
       "      <th>summary</th>\n",
       "    </tr>\n",
       "  </thead>\n",
       "  <tbody>\n",
       "    <tr>\n",
       "      <th>minidata</th>\n",
       "      <td>Minimal Data Selection</td>\n",
       "      <td>Given a large training dataset, what is the sm...</td>\n",
       "    </tr>\n",
       "    <tr>\n",
       "      <th>slice_discovery</th>\n",
       "      <td>Slice Discovery</td>\n",
       "      <td>Machine learnings models that achieve high ove...</td>\n",
       "    </tr>\n",
       "    <tr>\n",
       "      <th>budgetclean</th>\n",
       "      <td>Data Cleaning on a Budget</td>\n",
       "      <td>When it comes to data preparation, data cleani...</td>\n",
       "    </tr>\n",
       "  </tbody>\n",
       "</table>\n",
       "</div>"
      ],
      "text/plain": [
       "                                       name  \\\n",
       "minidata             Minimal Data Selection   \n",
       "slice_discovery             Slice Discovery   \n",
       "budgetclean      Data Cleaning on a Budget    \n",
       "\n",
       "                                                           summary  \n",
       "minidata         Given a large training dataset, what is the sm...  \n",
       "slice_discovery  Machine learnings models that achieve high ove...  \n",
       "budgetclean      When it comes to data preparation, data cleani...  "
      ]
     },
     "execution_count": 14,
     "metadata": {},
     "output_type": "execute_result"
    }
   ],
   "source": [
    "import dcbench\n",
    "dcbench.tasks"
   ]
  },
  {
   "cell_type": "markdown",
   "metadata": {},
   "source": [
    "## Exploring problems\n",
    "\n",
    "In this notebook, we'll focus on the [Slice Discovery](https://dcbench.readthedocs.io/en/latest/tasks.html#slice-discovery) task. \n",
    "\n",
    "In the `dcbench` API, each task is represented by a `dcbench.Task` object that can be accessed by *task_id* (*e.g.* `dcbench.tasks[\"slice_discovery\"]`)."
   ]
  },
  {
   "cell_type": "code",
   "execution_count": 6,
   "metadata": {},
   "outputs": [],
   "source": [
    "slice_discovery = dcbench.tasks[\"slice_discovery\"]"
   ]
  },
  {
   "cell_type": "markdown",
   "metadata": {},
   "source": [
    "Each task features a collection of *problems* (*i.e.* instances of the task). For example, the `slice_discovery` task includes hundreds of problems across a number of different datasets.\n",
    "\n",
    "We can list the problems with "
   ]
  },
  {
   "cell_type": "code",
   "execution_count": 15,
   "metadata": {},
   "outputs": [
    {
     "data": {
      "text/html": [
       "<div>\n",
       "<style scoped>\n",
       "    .dataframe tbody tr th:only-of-type {\n",
       "        vertical-align: middle;\n",
       "    }\n",
       "\n",
       "    .dataframe tbody tr th {\n",
       "        vertical-align: top;\n",
       "    }\n",
       "\n",
       "    .dataframe thead th {\n",
       "        text-align: right;\n",
       "    }\n",
       "</style>\n",
       "<table border=\"1\" class=\"dataframe\">\n",
       "  <thead>\n",
       "    <tr style=\"text-align: right;\">\n",
       "      <th></th>\n",
       "      <th>alpha</th>\n",
       "      <th>dataset</th>\n",
       "      <th>slice_category</th>\n",
       "      <th>slice_names</th>\n",
       "      <th>target_name</th>\n",
       "    </tr>\n",
       "  </thead>\n",
       "  <tbody>\n",
       "    <tr>\n",
       "      <th>p_72074</th>\n",
       "      <td>0.4</td>\n",
       "      <td>celeba</td>\n",
       "      <td>correlation</td>\n",
       "      <td>[bald=0_eyeglasses=1, bald=1_eyeglasses=0]</td>\n",
       "      <td>bald</td>\n",
       "    </tr>\n",
       "    <tr>\n",
       "      <th>p_72063</th>\n",
       "      <td>0.8</td>\n",
       "      <td>celeba</td>\n",
       "      <td>correlation</td>\n",
       "      <td>[bald=0_gray_hair=1, bald=1_gray_hair=0]</td>\n",
       "      <td>bald</td>\n",
       "    </tr>\n",
       "    <tr>\n",
       "      <th>p_72077</th>\n",
       "      <td>0.4</td>\n",
       "      <td>celeba</td>\n",
       "      <td>correlation</td>\n",
       "      <td>[bald=0_no_beard=1, bald=1_no_beard=0]</td>\n",
       "      <td>bald</td>\n",
       "    </tr>\n",
       "    <tr>\n",
       "      <th>p_72072</th>\n",
       "      <td>0.8</td>\n",
       "      <td>celeba</td>\n",
       "      <td>correlation</td>\n",
       "      <td>[bald=0_smiling=1, bald=1_smiling=0]</td>\n",
       "      <td>bald</td>\n",
       "    </tr>\n",
       "  </tbody>\n",
       "</table>\n",
       "</div>"
      ],
      "text/plain": [
       "         alpha dataset slice_category  \\\n",
       "p_72074    0.4  celeba    correlation   \n",
       "p_72063    0.8  celeba    correlation   \n",
       "p_72077    0.4  celeba    correlation   \n",
       "p_72072    0.8  celeba    correlation   \n",
       "\n",
       "                                        slice_names target_name  \n",
       "p_72074  [bald=0_eyeglasses=1, bald=1_eyeglasses=0]        bald  \n",
       "p_72063    [bald=0_gray_hair=1, bald=1_gray_hair=0]        bald  \n",
       "p_72077      [bald=0_no_beard=1, bald=1_no_beard=0]        bald  \n",
       "p_72072        [bald=0_smiling=1, bald=1_smiling=0]        bald  "
      ]
     },
     "execution_count": 15,
     "metadata": {},
     "output_type": "execute_result"
    }
   ],
   "source": [
    "slice_discovery.problems"
   ]
  },
  {
   "cell_type": "code",
   "execution_count": 16,
   "metadata": {},
   "outputs": [],
   "source": [
    "problem = slice_discovery.problems[\"p_72074\"]"
   ]
  },
  {
   "cell_type": "code",
   "execution_count": 17,
   "metadata": {},
   "outputs": [
    {
     "data": {
      "text/plain": [
       "{'activations': <dcbench.common.artifact.DataPanelArtifact at 0x7fd538b6fb20>,\n",
       " 'base_dataset': <dcbench.common.artifact.VisionDatasetArtifact at 0x7fd538b6fb50>,\n",
       " 'model': <dcbench.common.artifact.ModelArtifact at 0x7fd538b6fa30>,\n",
       " 'predictions': <dcbench.common.artifact.DataPanelArtifact at 0x7fd538b6fbb0>,\n",
       " 'slices': <dcbench.common.artifact.DataPanelArtifact at 0x7fd538b6fc10>}"
      ]
     },
     "execution_count": 17,
     "metadata": {},
     "output_type": "execute_result"
    }
   ],
   "source": [
    "problem.artifacts"
   ]
  },
  {
   "cell_type": "code",
   "execution_count": 18,
   "metadata": {},
   "outputs": [
    {
     "data": {
      "text/html": [
       "<table border=\"1\" class=\"dataframe\">\n",
       "  <thead>\n",
       "    <tr style=\"text-align: right;\">\n",
       "      <th></th>\n",
       "      <th>id (PandasSeriesColumn)</th>\n",
       "      <th>target (NumpyArrayColumn)</th>\n",
       "      <th>probs (ClassificationOutputColumn)</th>\n",
       "    </tr>\n",
       "  </thead>\n",
       "  <tbody>\n",
       "    <tr>\n",
       "      <th>0</th>\n",
       "      <td>058961.jpg</td>\n",
       "      <td>0</td>\n",
       "      <td>torch.Tensor(shape=torch.Size([2]))</td>\n",
       "    </tr>\n",
       "    <tr>\n",
       "      <th>1</th>\n",
       "      <td>138262.jpg</td>\n",
       "      <td>0</td>\n",
       "      <td>torch.Tensor(shape=torch.Size([2]))</td>\n",
       "    </tr>\n",
       "    <tr>\n",
       "      <th>2</th>\n",
       "      <td>007858.jpg</td>\n",
       "      <td>0</td>\n",
       "      <td>torch.Tensor(shape=torch.Size([2]))</td>\n",
       "    </tr>\n",
       "    <tr>\n",
       "      <th>3</th>\n",
       "      <td>123060.jpg</td>\n",
       "      <td>0</td>\n",
       "      <td>torch.Tensor(shape=torch.Size([2]))</td>\n",
       "    </tr>\n",
       "    <tr>\n",
       "      <th>4</th>\n",
       "      <td>078579.jpg</td>\n",
       "      <td>0</td>\n",
       "      <td>torch.Tensor(shape=torch.Size([2]))</td>\n",
       "    </tr>\n",
       "    <tr>\n",
       "      <th>...</th>\n",
       "      <td>...</td>\n",
       "      <td>...</td>\n",
       "      <td>...</td>\n",
       "    </tr>\n",
       "    <tr>\n",
       "      <th>9212</th>\n",
       "      <td>072564.jpg</td>\n",
       "      <td>1</td>\n",
       "      <td>torch.Tensor(shape=torch.Size([2]))</td>\n",
       "    </tr>\n",
       "    <tr>\n",
       "      <th>9213</th>\n",
       "      <td>133617.jpg</td>\n",
       "      <td>0</td>\n",
       "      <td>torch.Tensor(shape=torch.Size([2]))</td>\n",
       "    </tr>\n",
       "    <tr>\n",
       "      <th>9214</th>\n",
       "      <td>083761.jpg</td>\n",
       "      <td>0</td>\n",
       "      <td>torch.Tensor(shape=torch.Size([2]))</td>\n",
       "    </tr>\n",
       "    <tr>\n",
       "      <th>9215</th>\n",
       "      <td>174785.jpg</td>\n",
       "      <td>0</td>\n",
       "      <td>torch.Tensor(shape=torch.Size([2]))</td>\n",
       "    </tr>\n",
       "    <tr>\n",
       "      <th>9216</th>\n",
       "      <td>074932.jpg</td>\n",
       "      <td>0</td>\n",
       "      <td>torch.Tensor(shape=torch.Size([2]))</td>\n",
       "    </tr>\n",
       "  </tbody>\n",
       "</table>"
      ],
      "text/plain": [
       "DataPanel(nrows: 9217, ncols: 3)"
      ]
     },
     "execution_count": 18,
     "metadata": {},
     "output_type": "execute_result"
    }
   ],
   "source": [
    "problem[\"predictions\"]"
   ]
  },
  {
   "cell_type": "code",
   "execution_count": 20,
   "metadata": {},
   "outputs": [
    {
     "data": {
      "text/html": [
       "<table border=\"1\" class=\"dataframe\">\n",
       "  <thead>\n",
       "    <tr style=\"text-align: right;\">\n",
       "      <th></th>\n",
       "      <th>image (ImageColumn)</th>\n",
       "      <th>identity (PandasSeriesColumn)</th>\n",
       "      <th>image_id (PandasSeriesColumn)</th>\n",
       "      <th>split (PandasSeriesColumn)</th>\n",
       "    </tr>\n",
       "  </thead>\n",
       "  <tbody>\n",
       "    <tr>\n",
       "      <th>0</th>\n",
       "      <td><img src=\"data:image/jpeg;base64,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\"></td>\n",
       "      <td>2880</td>\n",
       "      <td>000001.jpg</td>\n",
       "      <td>train</td>\n",
       "    </tr>\n",
       "    <tr>\n",
       "      <th>1</th>\n",
       "      <td><img src=\"data:image/jpeg;base64,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\"></td>\n",
       "      <td>2937</td>\n",
       "      <td>000002.jpg</td>\n",
       "      <td>train</td>\n",
       "    </tr>\n",
       "    <tr>\n",
       "      <th>2</th>\n",
       "      <td><img src=\"data:image/jpeg;base64,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\"></td>\n",
       "      <td>8692</td>\n",
       "      <td>000003.jpg</td>\n",
       "      <td>train</td>\n",
       "    </tr>\n",
       "    <tr>\n",
       "      <th>3</th>\n",
       "      <td><img src=\"data:image/jpeg;base64,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\"></td>\n",
       "      <td>5805</td>\n",
       "      <td>000004.jpg</td>\n",
       "      <td>train</td>\n",
       "    </tr>\n",
       "    <tr>\n",
       "      <th>4</th>\n",
       "      <td><img src=\"data:image/jpeg;base64,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\"></td>\n",
       "      <td>9295</td>\n",
       "      <td>000005.jpg</td>\n",
       "      <td>train</td>\n",
       "    </tr>\n",
       "  </tbody>\n",
       "</table>"
      ],
      "text/plain": [
       "DataPanel(nrows: 5, ncols: 4)"
      ]
     },
     "execution_count": 20,
     "metadata": {},
     "output_type": "execute_result"
    }
   ],
   "source": [
    "problem[\"base_dataset\"].head()"
   ]
  },
  {
   "cell_type": "code",
   "execution_count": 21,
   "metadata": {},
   "outputs": [
    {
     "name": "stderr",
     "output_type": "stream",
     "text": [
      "[autoreload of dcbench.tasks.slice_discovery failed: Traceback (most recent call last):\n",
      "  File \"/Users/sabrieyuboglu/miniconda3/envs/domino/lib/python3.8/site-packages/IPython/extensions/autoreload.py\", line 245, in check\n",
      "    superreload(m, reload, self.old_objects)\n",
      "  File \"/Users/sabrieyuboglu/miniconda3/envs/domino/lib/python3.8/site-packages/IPython/extensions/autoreload.py\", line 394, in superreload\n",
      "    module = reload(module)\n",
      "  File \"/Users/sabrieyuboglu/miniconda3/envs/domino/lib/python3.8/imp.py\", line 314, in reload\n",
      "    return importlib.reload(module)\n",
      "  File \"/Users/sabrieyuboglu/miniconda3/envs/domino/lib/python3.8/importlib/__init__.py\", line 169, in reload\n",
      "    _bootstrap._exec(spec, module)\n",
      "  File \"<frozen importlib._bootstrap>\", line 604, in _exec\n",
      "  File \"<frozen importlib._bootstrap_external>\", line 848, in exec_module\n",
      "  File \"<frozen importlib._bootstrap>\", line 219, in _call_with_frames_removed\n",
      "  File \"/Users/sabrieyuboglu/code/dcbench/dcbench/tasks/slice_discovery/__init__.py\", line 14, in <module>\n",
      "    from .baselines import confusion_sdm\n",
      "  File \"/Users/sabrieyuboglu/code/dcbench/dcbench/tasks/slice_discovery/baselines.py\", line 5, in <module>\n",
      "    from . import SliceDiscoveryProblem, SliceDiscoverySolution\n",
      "ImportError: cannot import name 'SliceDiscoveryProblem' from 'dcbench.tasks.slice_discovery' (/Users/sabrieyuboglu/code/dcbench/dcbench/tasks/slice_discovery/__init__.py)\n",
      "]\n"
     ]
    },
    {
     "ename": "ImportError",
     "evalue": "cannot import name 'confusion_sdm' from 'dcbench.tasks.slice_discovery' (/Users/sabrieyuboglu/code/dcbench/dcbench/tasks/slice_discovery/__init__.py)",
     "output_type": "error",
     "traceback": [
      "\u001b[0;31m---------------------------------------------------------------------------\u001b[0m",
      "\u001b[0;31mImportError\u001b[0m                               Traceback (most recent call last)",
      "\u001b[0;32m/var/folders/v9/pbg14fdx6mb87nxzhqhnwrd00000gn/T/ipykernel_80563/3185082435.py\u001b[0m in \u001b[0;36m<module>\u001b[0;34m\u001b[0m\n\u001b[0;32m----> 1\u001b[0;31m \u001b[0;32mfrom\u001b[0m \u001b[0mdcbench\u001b[0m\u001b[0;34m.\u001b[0m\u001b[0mtasks\u001b[0m\u001b[0;34m.\u001b[0m\u001b[0mslice_discovery\u001b[0m \u001b[0;32mimport\u001b[0m \u001b[0mconfusion_sdm\u001b[0m\u001b[0;34m\u001b[0m\u001b[0;34m\u001b[0m\u001b[0m\n\u001b[0m",
      "\u001b[0;31mImportError\u001b[0m: cannot import name 'confusion_sdm' from 'dcbench.tasks.slice_discovery' (/Users/sabrieyuboglu/code/dcbench/dcbench/tasks/slice_discovery/__init__.py)"
     ]
    }
   ],
   "source": [
    "from dcbench.tasks.slice_discovery import confusion_sdm"
   ]
  },
  {
   "cell_type": "code",
   "execution_count": null,
   "metadata": {},
   "outputs": [],
   "source": [
    "from dcbench"
   ]
  }
 ],
 "metadata": {
  "interpreter": {
   "hash": "0e66dca393d5213d129ae85cd7adef3e0e7094111621fd43e8e70090b95b881a"
  },
  "kernelspec": {
   "display_name": "Python 3.8.10 64-bit ('domino': conda)",
   "language": "python",
   "name": "python3"
  },
  "language_info": {
   "codemirror_mode": {
    "name": "ipython",
    "version": 3
   },
   "file_extension": ".py",
   "mimetype": "text/x-python",
   "name": "python",
   "nbconvert_exporter": "python",
   "pygments_lexer": "ipython3",
   "version": "3.8.10"
  },
  "orig_nbformat": 4
 },
 "nbformat": 4,
 "nbformat_minor": 2
}
